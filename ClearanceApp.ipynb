{
 "cells": [
  {
   "cell_type": "code",
   "execution_count": 1,
   "metadata": {
    "collapsed": false
   },
   "outputs": [
    {
     "data": {
      "text/plain": [
       "['COMMODITY_DESC,HS6',\n",
       " 'HCPL-2631-500E X 1000 MAX9260GCB/V+T  X 750 MAX/14+ 750P/REEL AAVAGO/15+ 1K/REEL SHIP DATE 21TH MAR PO#1094090#1094087 BANKFEES USD25                 NOT GIVEN,854290',\n",
       " '00A-RAMAN SH 00A-RAMAN-SH (RAMAN SAMPLE H         OLDER),847330',\n",
       " 'RIBBON                                            BALLET SHOES,580632',\n",
       " 'AIR CRAFT SPARE PARTS,847150']"
      ]
     },
     "execution_count": 1,
     "metadata": {},
     "output_type": "execute_result"
    }
   ],
   "source": [
    "# Read the clearance.txt file from HDFS into an RDD.\n",
    "lines = sc.textFile('hdfs:/user/cloudera/clearance.txt')\n",
    "lines.take(5)"
   ]
  },
  {
   "cell_type": "code",
   "execution_count": 2,
   "metadata": {
    "collapsed": false
   },
   "outputs": [
    {
     "data": {
      "text/plain": [
       "5001"
      ]
     },
     "execution_count": 2,
     "metadata": {},
     "output_type": "execute_result"
    }
   ],
   "source": [
    "# print out total number of lines\n",
    "lines.count()"
   ]
  },
  {
   "cell_type": "code",
   "execution_count": 3,
   "metadata": {
    "collapsed": false
   },
   "outputs": [
    {
     "data": {
      "text/plain": [
       "[['COMMODITY_DESC', 'HS6'],\n",
       " ['HCPL-2631-500E X 1000 MAX9260GCB/V+T  X 750 MAX/14+ 750P/REEL AAVAGO/15+ 1K/REEL SHIP DATE 21TH MAR PO#1094090#1094087 BANKFEES USD25                 NOT GIVEN',\n",
       "  '854290'],\n",
       " ['00A-RAMAN SH 00A-RAMAN-SH (RAMAN SAMPLE H         OLDER)', '847330'],\n",
       " ['RIBBON                                            BALLET SHOES', '580632'],\n",
       " ['AIR CRAFT SPARE PARTS', '847150'],\n",
       " ['CHOCOLATE SAMPLE(SAMPLES ONLY NOT FOR RESALE)', '180690'],\n",
       " ['14KR DIA- SG SEE INVOICE 14KR DIA SET RING GOLD 66RD LABOUR DIA USED #080716-2HK; 300716HK 14KY DIA RING GOLD 56 RD 4PC LABOUR GROOVING DIA USED #270716HK 14KW DIA SET RING GOLD 66 RD LABOUR DIA USED',\n",
       "  '711319'],\n",
       " ['SPECTACLE FRAME AND SUNGLASS WITH CASE', '490900'],\n",
       " ['PATCH CARD 8544.4299 HARNESS/PATCHCORD 85         44.4299 HARNESS/PATCHCORD 0367560023 NCR          484-0101588 0366670025 NCR 445-0732884',\n",
       "  '854442'],\n",
       " ['AIRCRAFT ENGINE PARTS COOLER AIR NO 4 BRG P/N D187', '980100']]"
      ]
     },
     "execution_count": 3,
     "metadata": {},
     "output_type": "execute_result"
    }
   ],
   "source": [
    "desc_code_pairs = lines.map(lambda l : l.split(\",\"))\n",
    "desc_code_pairs.take(10)"
   ]
  },
  {
   "cell_type": "code",
   "execution_count": 4,
   "metadata": {
    "collapsed": false
   },
   "outputs": [
    {
     "data": {
      "text/plain": [
       "[('COMMODITY_DESC', 'HS6'),\n",
       " ('HCPL-2631-500E', '854290'),\n",
       " ('X', '854290'),\n",
       " ('1000', '854290'),\n",
       " ('MAX9260GCB/V+T', '854290'),\n",
       " ('X', '854290'),\n",
       " ('750', '854290'),\n",
       " ('MAX/14+', '854290'),\n",
       " ('750P/REEL', '854290'),\n",
       " ('AAVAGO/15+', '854290'),\n",
       " ('1K/REEL', '854290'),\n",
       " ('SHIP', '854290'),\n",
       " ('DATE', '854290'),\n",
       " ('21TH', '854290'),\n",
       " ('MAR', '854290'),\n",
       " ('PO#1094090#1094087', '854290'),\n",
       " ('BANKFEES', '854290'),\n",
       " ('USD25', '854290'),\n",
       " ('NOT', '854290'),\n",
       " ('GIVEN', '854290')]"
      ]
     },
     "execution_count": 4,
     "metadata": {},
     "output_type": "execute_result"
    }
   ],
   "source": [
    "# Transfer desc-code pairs to key-code tuples\n",
    "def extractKeyWord(desc_code):\n",
    "    return [(key, desc_code[1]) for key in desc_code[0].split(\" \") if key != \"\" ]\n",
    "\n",
    "key_code_tuples =  desc_code_pairs.flatMap(extractKeyWord)\n",
    "key_code_tuples.take(20)"
   ]
  },
  {
   "cell_type": "code",
   "execution_count": 14,
   "metadata": {
    "collapsed": false
   },
   "outputs": [],
   "source": [
    "# tried to use readuceByKey\n",
    "\n",
    "# function to create required data structure - return ({code : codeCount}, totalCodes)\n",
    "def valueCombiner(value1, value2):\n",
    "    dict1 = value1[0]\n",
    "    total1 = value1[1]\n",
    "    dict2 = value2[0]\n",
    "    total2 = value2[1]\n",
    "        \n",
    "    for (key2, count2) in dict2.items():\n",
    "        if (key2 in dict1):\n",
    "            dict1[key2] = dict1[key2] + count2\n",
    "        else:\n",
    "            dict1[key2] = count2\n",
    "        \n",
    "    total1 += total2\n",
    "        \n",
    "    return (dict1, total1)\n",
    "\n",
    "# function to print out final result\n",
    "def printResult(keyValue):\n",
    "    key = keyValue[0]\n",
    "    codeDict = keyValue[1][0]\n",
    "    total = keyValue[1][1]\n",
    "    #initialize result\n",
    "    result = \"\"\n",
    "    for (code, count) in codeDict.items():\n",
    "        perc = str(\"{0}%\".format(100 * count//total))\n",
    "        result += \", \" + code + \"(\" + perc + \")\"\n",
    "    \n",
    "    return(key, result[2:])\n",
    "    \n",
    "\n",
    "counts = key_code_tuples.map(lambda kctuple : (kctuple[0], ({kctuple[1]:1}, 1))) \\\n",
    "                        .reduceByKey(valueCombiner) \\\n",
    "                        .map(printResult) \\\n",
    "                        .sortByKey() \n",
    "                        \n",
    "        \n",
    "counts.take(10)\n",
    "# counts.lookup(\"SCARVES\")\n",
    "counts.coalesce(1).saveAsTextFile('hdfs:/user/cloudera/outputDir')"
   ]
  },
  {
   "cell_type": "code",
   "execution_count": null,
   "metadata": {
    "collapsed": true
   },
   "outputs": [],
   "source": []
  },
  {
   "cell_type": "code",
   "execution_count": 128,
   "metadata": {
    "collapsed": false
   },
   "outputs": [
    {
     "data": {
      "text/plain": [
       "[('\"\"',\n",
       "  '848690(6%), 580632(6%), 711319(6%), 600642(6%), 900130(12%), 490199(43%), 841989(12%), 870899(6%)'),\n",
       " ('\"\"\"', '870899(100%)'),\n",
       " ('\"\"\"100', '610910(100%)'),\n",
       " ('\"\"\"GLOVE', '902790(100%)'),\n",
       " ('\"\"\"PARTS', '847170(100%)'),\n",
       " ('\"\"\"WAFER', '854129(100%)'),\n",
       " ('\"\"BUTTERFLY', '940360(100%)'),\n",
       " ('\"\"CS300R-13\"\"', '841989(100%)'),\n",
       " ('\"\"D\"\"', '854442(100%)'),\n",
       " ('\"\"FLG', '300691(100%)')]"
      ]
     },
     "execution_count": 128,
     "metadata": {},
     "output_type": "execute_result"
    }
   ],
   "source": [
    "# create code combiner - return ({code : codeCount}, totalCodes)\n",
    "def createCodeCombiner(code):\n",
    "    return ({code : 1 }, 1)\n",
    "\n",
    "# # code combiner function\n",
    "def codeCombiner(value1, code):\n",
    "    dict1 = value1[0]\n",
    "    total = value1[1]\n",
    "      \n",
    "    if (code in dict1):\n",
    "        dict1[code] = dict1[code] + 1\n",
    "    else:\n",
    "        dict1[code] = 1\n",
    "    total += 1\n",
    "        \n",
    "    return (dict1, total)\n",
    "\n",
    "# def codeMerger()\n",
    "def valueMerger(value1, value2):\n",
    "    dict1 = value1[0]\n",
    "    total1 = value1[1]\n",
    "    dict2 = value2[0]\n",
    "    total2 = value2[1]\n",
    "        \n",
    "    for (key2, count2) in dict2.items():\n",
    "        if (key2 in dict1):\n",
    "            dict1[key2] = dict1[key2] + count2\n",
    "        else:\n",
    "            dict1[key2] = count2\n",
    "        \n",
    "    total1 += total2\n",
    "        \n",
    "    return (dict1, total1)\n",
    "\n",
    "# function to print out final result\n",
    "def mapResult1(keyValue):\n",
    "    key = keyValue[0]\n",
    "    codeDict = keyValue[1][0]\n",
    "    total = keyValue[1][1]\n",
    "    #initialize result\n",
    "    result = \"\"\n",
    "    for (code, count) in codeDict.items():\n",
    "        perc = str(\"{0}%\".format(100*count//total))\n",
    "        result += \", \" + code + \"(\" + perc + \")\"\n",
    "    \n",
    "    return(key, result[2:])\n",
    "\n",
    "key_code_counts = key_code_tuples.combineByKey(createCodeCombiner, codeCombiner, valueMerger) \\\n",
    "                                 .map(mapResult1) \\\n",
    "                                 .sortByKey()\n",
    "key_code_counts.take(10)"
   ]
  }
 ],
 "metadata": {
  "kernelspec": {
   "display_name": "Python 3",
   "language": "python",
   "name": "python3"
  },
  "language_info": {
   "codemirror_mode": {
    "name": "ipython",
    "version": 3
   },
   "file_extension": ".py",
   "mimetype": "text/x-python",
   "name": "python",
   "nbconvert_exporter": "python",
   "pygments_lexer": "ipython3",
   "version": "3.5.1"
  }
 },
 "nbformat": 4,
 "nbformat_minor": 0
}
